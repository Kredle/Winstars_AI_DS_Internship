{
 "cells": [
  {
   "cell_type": "code",
   "execution_count": 13,
   "metadata": {},
   "outputs": [
    {
     "name": "stdout",
     "output_type": "stream",
     "text": [
      "Class_counts --> {'raw-img': 10}\n"
     ]
    }
   ],
   "source": [
    "import os\n",
    "import matplotlib.pyplot as plt\n",
    "\n",
    "# Dataset path\n",
    "DATASET_PATH = \"../data/animals-10\" \n",
    "\n",
    "# Getting list of animal classes by its dirs\n",
    "CLASSES = [cls for cls in os.listdir(DATASET_PATH) \n",
    "          if os.path.isdir(os.path.join(DATASET_PATH, cls))]\n",
    "\n",
    "# Checking for class availability\n",
    "assert CLASSES, \"Empty dir\"\n",
    "\n",
    "# Distribution visualization\n",
    "class_counts = {cls: len(os.listdir(os.path.join(DATASET_PATH, cls))) \n",
    "               for cls in CLASSES}\n",
    "\n",
    "print(f'Class_counts --> {class_counts}')\n"
   ]
  }
 ],
 "metadata": {
  "kernelspec": {
   "display_name": "Python 3",
   "language": "python",
   "name": "python3"
  },
  "language_info": {
   "codemirror_mode": {
    "name": "ipython",
    "version": 3
   },
   "file_extension": ".py",
   "mimetype": "text/x-python",
   "name": "python",
   "nbconvert_exporter": "python",
   "pygments_lexer": "ipython3",
   "version": "3.12.9"
  }
 },
 "nbformat": 4,
 "nbformat_minor": 2
}
