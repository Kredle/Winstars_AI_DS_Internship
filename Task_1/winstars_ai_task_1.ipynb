{
  "cells": [
    {
      "cell_type": "code",
      "execution_count": 1,
      "metadata": {
        "id": "5ulK1BoWVGS3"
      },
      "outputs": [],
      "source": [
        "import pandas as pd\n",
        "import matplotlib.pyplot as plt\n",
        "import numpy as np\n",
        "import tensorflow as tf\n",
        "from sklearn.ensemble import RandomForestClassifier\n",
        "from sklearn.metrics import accuracy_score\n",
        "from sklearn.neural_network import MLPClassifier\n",
        "from tensorflow.keras import layers, models, Input"
      ]
    },
    {
      "cell_type": "markdown",
      "metadata": {
        "id": "yuQaLwMAVPE1"
      },
      "source": [
        "#Initializing a dataset"
      ]
    },
    {
      "cell_type": "code",
      "execution_count": 2,
      "metadata": {
        "colab": {
          "base_uri": "https://localhost:8080/"
        },
        "id": "WlVRkFX8VUMU",
        "outputId": "ee6331ea-3221-4104-a0e4-4cfd6b176e99"
      },
      "outputs": [
        {
          "output_type": "stream",
          "name": "stdout",
          "text": [
            "Downloading data from https://storage.googleapis.com/tensorflow/tf-keras-datasets/mnist.npz\n",
            "\u001b[1m11490434/11490434\u001b[0m \u001b[32m━━━━━━━━━━━━━━━━━━━━\u001b[0m\u001b[37m\u001b[0m \u001b[1m1s\u001b[0m 0us/step\n"
          ]
        }
      ],
      "source": [
        "(x_train, y_train), (x_test, y_test) = tf.keras.datasets.mnist.load_data()"
      ]
    },
    {
      "cell_type": "markdown",
      "metadata": {
        "id": "93YQUiTacKUQ"
      },
      "source": [
        "#MnistClassifierInterface"
      ]
    },
    {
      "cell_type": "code",
      "execution_count": 3,
      "metadata": {
        "id": "87FdttyXcfX2"
      },
      "outputs": [],
      "source": [
        "from abc import ABC, abstractmethod\n",
        "\n",
        "class MnistClassifierInterface:\n",
        "\n",
        "    @abstractmethod\n",
        "    def train(self, x_train, y_train):\n",
        "        pass\n",
        "\n",
        "    @abstractmethod\n",
        "    def predict(self, x_train):\n",
        "        pass"
      ]
    },
    {
      "cell_type": "markdown",
      "metadata": {
        "id": "CASWNGBrdMTF"
      },
      "source": [
        "#RandomForestModel"
      ]
    },
    {
      "cell_type": "code",
      "execution_count": 4,
      "metadata": {
        "id": "EADxd_OpdTAK"
      },
      "outputs": [],
      "source": [
        "\n",
        "\n",
        "class RandomForestModel(MnistClassifierInterface):\n",
        "    def __init__(self):\n",
        "        self.model = RandomForestClassifier(n_estimators=100)\n",
        "\n",
        "    def train(self, x_train: np.ndarray, y_train: np.ndarray):\n",
        "        x_train_flat = x_train.reshape(x_train.shape[0], -1)\n",
        "        self.model.fit(x_train_flat, y_train)\n",
        "\n",
        "    def predict(self, x_test: np.ndarray) -> np.ndarray:\n",
        "        x_test_flat = x_test.reshape(x_test.shape[0], -1)\n",
        "        return self.model.predict(x_test_flat)\n"
      ]
    },
    {
      "cell_type": "markdown",
      "metadata": {
        "id": "kzRR8YGiVA1d"
      },
      "source": [
        "#Feed-Forward Neural Network Model"
      ]
    },
    {
      "cell_type": "code",
      "execution_count": 5,
      "metadata": {
        "id": "1ujS8JbPVIef"
      },
      "outputs": [],
      "source": [
        "class FeedForwardNNModel(MnistClassifierInterface):\n",
        "    def __init__(self):\n",
        "        self.model = MLPClassifier(\n",
        "            hidden_layer_sizes=(128, 64),\n",
        "            activation='relu',\n",
        "            solver='adam',\n",
        "            max_iter=10,\n",
        "            verbose=True\n",
        "        )\n",
        "\n",
        "    def train(self, x_train, y_train):\n",
        "        x_train_flat = x_train.reshape(x_train.shape[0], -1)\n",
        "        self.model.fit(x_train_flat, y_train)\n",
        "\n",
        "    def predict(self, x_test):\n",
        "        x_test_flat = x_test.reshape(x_test.shape[0], -1)\n",
        "        predictions = self.model.predict(x_test_flat)\n",
        "        return predictions"
      ]
    },
    {
      "cell_type": "markdown",
      "metadata": {
        "id": "HkhyaUK4WI3G"
      },
      "source": [
        "#Convolutional Neural Network Model"
      ]
    },
    {
      "cell_type": "code",
      "execution_count": 6,
      "metadata": {
        "id": "wxV0vOGlWLJc"
      },
      "outputs": [],
      "source": [
        "class CNNModel(MnistClassifierInterface):\n",
        "    def __init__(self):\n",
        "        self.model = models.Sequential([\n",
        "            Input(shape=(28, 28, 1)),\n",
        "            layers.Conv2D(32, (3, 3), activation='relu'),\n",
        "            layers.MaxPooling2D((2, 2)),\n",
        "            layers.Conv2D(64, (3, 3), activation='relu'),\n",
        "            layers.MaxPooling2D((2, 2)),\n",
        "            layers.Flatten(),\n",
        "            layers.Dense(64, activation='relu'),\n",
        "            layers.Dense(10, activation='softmax')\n",
        "        ])\n",
        "\n",
        "        self.model.compile(optimizer='adam',\n",
        "                           loss='sparse_categorical_crossentropy',\n",
        "                           metrics=['accuracy'])\n",
        "\n",
        "    def train(self, x_train, y_train):\n",
        "        x_train_exp = x_train[..., np.newaxis]\n",
        "        self.model.fit(x_train_exp, y_train, epochs=5, batch_size=32, verbose=2)\n",
        "\n",
        "    def predict(self, x_test):\n",
        "        x_test_exp = x_test[..., np.newaxis]\n",
        "        predictions = self.model.predict(x_test_exp)\n",
        "        return np.argmax(predictions, axis=1)\n"
      ]
    },
    {
      "cell_type": "markdown",
      "metadata": {
        "id": "baHg8kOtepI_"
      },
      "source": [
        "#MnistClassifier\n"
      ]
    },
    {
      "cell_type": "code",
      "execution_count": 7,
      "metadata": {
        "id": "12UARNh8esVb"
      },
      "outputs": [],
      "source": [
        "class MnistClassifier:\n",
        "    def __init__(self, algorithm: str):\n",
        "        if algorithm == 'rf':\n",
        "            self.model = RandomForestModel()\n",
        "        elif algorithm == 'nn':\n",
        "            self.model = FeedForwardNNModel()\n",
        "        elif algorithm == 'cnn':\n",
        "            self.model = CNNModel()\n",
        "        else:\n",
        "            raise ValueError(\"Invalid algorithm. Use 'rf', 'nn', or 'cnn'.\")\n",
        "\n",
        "    def train(self, x_train, y_train):\n",
        "        self.model.train(x_train, y_train)\n",
        "\n",
        "    def predict(self, x_test):\n",
        "        return self.model.predict(x_test)"
      ]
    },
    {
      "cell_type": "markdown",
      "metadata": {
        "id": "j8UxfI-dfcqU"
      },
      "source": [
        "#Tests"
      ]
    },
    {
      "cell_type": "code",
      "execution_count": 8,
      "metadata": {
        "colab": {
          "base_uri": "https://localhost:8080/"
        },
        "id": "e7DZ46CnfhTh",
        "outputId": "39ab34da-e1bb-404c-ec0c-591d75f948fb"
      },
      "outputs": [
        {
          "output_type": "stream",
          "name": "stdout",
          "text": [
            "Accuracy: 0.9698\n",
            "[7 2 1 ... 4 5 6]\n"
          ]
        }
      ],
      "source": [
        "x_train, x_test = x_train / 255.0, x_test / 255.0\n",
        "\n",
        "classifier = MnistClassifier(algorithm='rf')\n",
        "classifier.train(x_train, y_train)\n",
        "predictions = classifier.predict(x_test)\n",
        "\n",
        "accuracy = accuracy_score(y_test, predictions)\n",
        "print(f'Accuracy: {accuracy:.4f}')\n",
        "print(predictions)"
      ]
    },
    {
      "cell_type": "code",
      "execution_count": 9,
      "metadata": {
        "colab": {
          "base_uri": "https://localhost:8080/"
        },
        "id": "5ClZl02nfoDV",
        "outputId": "be310e4e-6d83-456c-b280-b62b81620a00"
      },
      "outputs": [
        {
          "output_type": "stream",
          "name": "stdout",
          "text": [
            "Iteration 1, loss = 0.39670932\n",
            "Iteration 2, loss = 0.15847226\n",
            "Iteration 3, loss = 0.11168397\n",
            "Iteration 4, loss = 0.08642452\n",
            "Iteration 5, loss = 0.06970530\n",
            "Iteration 6, loss = 0.05617617\n",
            "Iteration 7, loss = 0.04759308\n",
            "Iteration 8, loss = 0.04026506\n",
            "Iteration 9, loss = 0.03213286\n",
            "Iteration 10, loss = 0.02698389\n"
          ]
        },
        {
          "output_type": "stream",
          "name": "stderr",
          "text": [
            "/usr/local/lib/python3.11/dist-packages/sklearn/neural_network/_multilayer_perceptron.py:691: ConvergenceWarning: Stochastic Optimizer: Maximum iterations (10) reached and the optimization hasn't converged yet.\n",
            "  warnings.warn(\n"
          ]
        },
        {
          "output_type": "stream",
          "name": "stdout",
          "text": [
            "Accuracy: 0.9758\n",
            "[7 2 1 ... 4 5 6]\n"
          ]
        }
      ],
      "source": [
        "classifier =  MnistClassifier(algorithm='nn')\n",
        "classifier.train(x_train, y_train)\n",
        "predictions = classifier.predict(x_test)\n",
        "\n",
        "accuracy = accuracy_score(y_test, predictions)\n",
        "print(f'Accuracy: {accuracy:.4f}')\n",
        "print(predictions)"
      ]
    },
    {
      "cell_type": "code",
      "execution_count": 10,
      "metadata": {
        "colab": {
          "base_uri": "https://localhost:8080/"
        },
        "id": "cbbgVyn-Xd2K",
        "outputId": "ecfbd71d-f467-446d-a826-94639703e706"
      },
      "outputs": [
        {
          "output_type": "stream",
          "name": "stdout",
          "text": [
            "Epoch 1/5\n",
            "1875/1875 - 54s - 29ms/step - accuracy: 0.9572 - loss: 0.1406\n",
            "Epoch 2/5\n",
            "1875/1875 - 80s - 43ms/step - accuracy: 0.9855 - loss: 0.0467\n",
            "Epoch 3/5\n",
            "1875/1875 - 80s - 43ms/step - accuracy: 0.9898 - loss: 0.0317\n",
            "Epoch 4/5\n",
            "1875/1875 - 47s - 25ms/step - accuracy: 0.9925 - loss: 0.0237\n",
            "Epoch 5/5\n",
            "1875/1875 - 47s - 25ms/step - accuracy: 0.9944 - loss: 0.0186\n",
            "\u001b[1m313/313\u001b[0m \u001b[32m━━━━━━━━━━━━━━━━━━━━\u001b[0m\u001b[37m\u001b[0m \u001b[1m3s\u001b[0m 8ms/step\n",
            "Accuracy: 0.9913\n",
            "[7 2 1 ... 4 5 6]\n"
          ]
        }
      ],
      "source": [
        "classifier =  MnistClassifier(algorithm='cnn')\n",
        "classifier.train(x_train, y_train)\n",
        "predictions = classifier.predict(x_test)\n",
        "\n",
        "accuracy = accuracy_score(y_test, predictions)\n",
        "print(f'Accuracy: {accuracy:.4f}')\n",
        "print(predictions)"
      ]
    }
  ],
  "metadata": {
    "colab": {
      "provenance": []
    },
    "kernelspec": {
      "display_name": "Python 3",
      "name": "python3"
    },
    "language_info": {
      "name": "python"
    }
  },
  "nbformat": 4,
  "nbformat_minor": 0
}